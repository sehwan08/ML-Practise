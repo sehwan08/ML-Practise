{
 "cells": [
  {
   "cell_type": "markdown",
   "id": "34678fd1",
   "metadata": {},
   "source": [
    "### 텍스트 마이닝"
   ]
  },
  {
   "cell_type": "code",
   "execution_count": 1,
   "id": "40512676",
   "metadata": {},
   "outputs": [],
   "source": [
    "import pandas as pd\n",
    "import numpy as np\n",
    "import matplotlib.pylab as plt\n",
    "import seaborn as sns\n",
    "\n",
    "import warnings\n",
    "warnings.filterwarnings('ignore')"
   ]
  },
  {
   "cell_type": "code",
   "execution_count": 2,
   "id": "2987a23b",
   "metadata": {},
   "outputs": [],
   "source": [
    "df = pd.read_csv(\"https://raw.githubusercontent.com/yoonkt200/FastCampusDataset/master/bourne_scenario.csv\")"
   ]
  },
  {
   "cell_type": "code",
   "execution_count": 3,
   "id": "30f31501",
   "metadata": {},
   "outputs": [
    {
     "data": {
      "text/html": [
       "<div>\n",
       "<style scoped>\n",
       "    .dataframe tbody tr th:only-of-type {\n",
       "        vertical-align: middle;\n",
       "    }\n",
       "\n",
       "    .dataframe tbody tr th {\n",
       "        vertical-align: top;\n",
       "    }\n",
       "\n",
       "    .dataframe thead th {\n",
       "        text-align: right;\n",
       "    }\n",
       "</style>\n",
       "<table border=\"1\" class=\"dataframe\">\n",
       "  <thead>\n",
       "    <tr style=\"text-align: right;\">\n",
       "      <th></th>\n",
       "      <th>page_no</th>\n",
       "      <th>scene_title</th>\n",
       "      <th>text</th>\n",
       "    </tr>\n",
       "  </thead>\n",
       "  <tbody>\n",
       "    <tr>\n",
       "      <th>0</th>\n",
       "      <td>1</td>\n",
       "      <td>1         EXT. MERCEDES WINDSHIELD -- DUSK</td>\n",
       "      <td>1                It's raining...             ...</td>\n",
       "    </tr>\n",
       "    <tr>\n",
       "      <th>1</th>\n",
       "      <td>1</td>\n",
       "      <td>A1        INT. MERCEDES -- NIGHT</td>\n",
       "      <td>A1                On his knee -- a syringe an...</td>\n",
       "    </tr>\n",
       "    <tr>\n",
       "      <th>2</th>\n",
       "      <td>1</td>\n",
       "      <td>2         INT. COTTAGE BEDROOM -- NIGHT</td>\n",
       "      <td>2                BOURNE'S EYES OPEN! -- panic...</td>\n",
       "    </tr>\n",
       "    <tr>\n",
       "      <th>3</th>\n",
       "      <td>1</td>\n",
       "      <td>A2        INT. COTTAGE LIVING AREA/BATHROOM ...</td>\n",
       "      <td>A2                BOURNE moving for the medic...</td>\n",
       "    </tr>\n",
       "    <tr>\n",
       "      <th>4</th>\n",
       "      <td>2</td>\n",
       "      <td>3         INT./EXT. COTTAGE LIVING ROOM/VERA...</td>\n",
       "      <td>3                One minute later.  BOURNE mo...</td>\n",
       "    </tr>\n",
       "  </tbody>\n",
       "</table>\n",
       "</div>"
      ],
      "text/plain": [
       "   page_no                                        scene_title  \\\n",
       "0        1         1         EXT. MERCEDES WINDSHIELD -- DUSK   \n",
       "1        1                   A1        INT. MERCEDES -- NIGHT   \n",
       "2        1            2         INT. COTTAGE BEDROOM -- NIGHT   \n",
       "3        1    A2        INT. COTTAGE LIVING AREA/BATHROOM ...   \n",
       "4        2    3         INT./EXT. COTTAGE LIVING ROOM/VERA...   \n",
       "\n",
       "                                                text  \n",
       "0   1                It's raining...             ...  \n",
       "1   A1                On his knee -- a syringe an...  \n",
       "2   2                BOURNE'S EYES OPEN! -- panic...  \n",
       "3   A2                BOURNE moving for the medic...  \n",
       "4   3                One minute later.  BOURNE mo...  "
      ]
     },
     "execution_count": 3,
     "metadata": {},
     "output_type": "execute_result"
    }
   ],
   "source": [
    "df.head()"
   ]
  },
  {
   "cell_type": "markdown",
   "id": "44d52fb7",
   "metadata": {},
   "source": [
    "### EDA 진행"
   ]
  },
  {
   "cell_type": "code",
   "execution_count": 4,
   "id": "10313221",
   "metadata": {},
   "outputs": [
    {
     "data": {
      "text/plain": [
       "(320, 3)"
      ]
     },
     "execution_count": 4,
     "metadata": {},
     "output_type": "execute_result"
    }
   ],
   "source": [
    "# 데이터 개수\n",
    "df.shape"
   ]
  },
  {
   "cell_type": "code",
   "execution_count": 5,
   "id": "c74dfead",
   "metadata": {},
   "outputs": [
    {
     "data": {
      "text/plain": [
       "page_no        0\n",
       "scene_title    0\n",
       "text           0\n",
       "dtype: int64"
      ]
     },
     "execution_count": 5,
     "metadata": {},
     "output_type": "execute_result"
    }
   ],
   "source": [
    "# 널값 확인\n",
    "df.isnull().sum()"
   ]
  },
  {
   "cell_type": "code",
   "execution_count": 6,
   "id": "ee1337c1",
   "metadata": {},
   "outputs": [
    {
     "name": "stdout",
     "output_type": "stream",
     "text": [
      "<class 'pandas.core.frame.DataFrame'>\n",
      "RangeIndex: 320 entries, 0 to 319\n",
      "Data columns (total 3 columns):\n",
      " #   Column       Non-Null Count  Dtype \n",
      "---  ------       --------------  ----- \n",
      " 0   page_no      320 non-null    int64 \n",
      " 1   scene_title  320 non-null    object\n",
      " 2   text         320 non-null    object\n",
      "dtypes: int64(1), object(2)\n",
      "memory usage: 7.6+ KB\n"
     ]
    }
   ],
   "source": [
    "# 데이터 형태 확인\n",
    "df.info()"
   ]
  },
  {
   "cell_type": "code",
   "execution_count": 8,
   "id": "d20917ea",
   "metadata": {},
   "outputs": [
    {
     "data": {
      "text/plain": [
       "\" 1                It's raining...                Light strobes across the wet glass at a rhythmic pace...                 Suddenly -- through the window a face -- JASON BOURNE --               riding in the backseat -- his gaze fixed.      \""
      ]
     },
     "execution_count": 8,
     "metadata": {},
     "output_type": "execute_result"
    }
   ],
   "source": [
    "# 실제 사용하고자 하는 데이터 형태 확인\n",
    "df['text'][0]"
   ]
  },
  {
   "cell_type": "markdown",
   "id": "df087088",
   "metadata": {},
   "source": [
    "### 정규식을 써 텍스트 전처리"
   ]
  },
  {
   "cell_type": "code",
   "execution_count": 24,
   "id": "606642bb",
   "metadata": {},
   "outputs": [],
   "source": [
    "# 정규식을 써 숫자, 공백, 특수문자, 대문자, 를 제거해 통일을 해야 한다. \n",
    "import re\n",
    "\n",
    "def apply_regular_expression(text):\n",
    "    text = text.lower()\n",
    "    english = re.compile('[^ a-z]') # '^' = 모두 들고 옴, 즉 '^ _____' 으로 띄어쓰기+a-z만 들고옴(나머지 특수문자 없어짐)\n",
    "    result = english.sub('', text) #.sub() - 정규표현식을 들어오는 text파라미터에 적용함\n",
    "    result = re.sub(' +', ' ', result) # ' +' = 띄어쓰기가 2개이상이면 ' ' 하나로 바꿔 줘\n",
    "    return result\n",
    "    "
   ]
  },
  {
   "cell_type": "code",
   "execution_count": 25,
   "id": "1a5b60d6",
   "metadata": {},
   "outputs": [
    {
     "data": {
      "text/plain": [
       "' its raining light strobes across the wet glass at a rhythmic pace suddenly through the window a face jason bourne riding in the backseat his gaze fixed '"
      ]
     },
     "execution_count": 25,
     "metadata": {},
     "output_type": "execute_result"
    }
   ],
   "source": [
    "apply_regular_expression(df['text'][0])"
   ]
  },
  {
   "cell_type": "code",
   "execution_count": null,
   "id": "1de23631",
   "metadata": {},
   "outputs": [],
   "source": []
  },
  {
   "cell_type": "code",
   "execution_count": null,
   "id": "b66493d6",
   "metadata": {},
   "outputs": [],
   "source": []
  },
  {
   "cell_type": "code",
   "execution_count": null,
   "id": "05e30437",
   "metadata": {},
   "outputs": [],
   "source": []
  },
  {
   "cell_type": "code",
   "execution_count": null,
   "id": "c8e88788",
   "metadata": {},
   "outputs": [],
   "source": []
  },
  {
   "cell_type": "code",
   "execution_count": null,
   "id": "7e27aeac",
   "metadata": {},
   "outputs": [],
   "source": []
  },
  {
   "cell_type": "code",
   "execution_count": null,
   "id": "ddbddacb",
   "metadata": {},
   "outputs": [],
   "source": []
  },
  {
   "cell_type": "code",
   "execution_count": null,
   "id": "582e4d4a",
   "metadata": {},
   "outputs": [],
   "source": []
  },
  {
   "cell_type": "code",
   "execution_count": null,
   "id": "191df801",
   "metadata": {},
   "outputs": [],
   "source": []
  },
  {
   "cell_type": "code",
   "execution_count": null,
   "id": "d52f77e9",
   "metadata": {},
   "outputs": [],
   "source": []
  },
  {
   "cell_type": "code",
   "execution_count": null,
   "id": "61e7578c",
   "metadata": {},
   "outputs": [],
   "source": []
  },
  {
   "cell_type": "code",
   "execution_count": null,
   "id": "9c28f7ba",
   "metadata": {},
   "outputs": [],
   "source": []
  },
  {
   "cell_type": "code",
   "execution_count": null,
   "id": "df9f79be",
   "metadata": {},
   "outputs": [],
   "source": []
  },
  {
   "cell_type": "code",
   "execution_count": null,
   "id": "feab1183",
   "metadata": {},
   "outputs": [],
   "source": []
  },
  {
   "cell_type": "code",
   "execution_count": null,
   "id": "cd6a3074",
   "metadata": {},
   "outputs": [],
   "source": []
  },
  {
   "cell_type": "code",
   "execution_count": null,
   "id": "3cdedcfd",
   "metadata": {},
   "outputs": [],
   "source": []
  },
  {
   "cell_type": "code",
   "execution_count": null,
   "id": "c5302f0a",
   "metadata": {},
   "outputs": [],
   "source": []
  },
  {
   "cell_type": "code",
   "execution_count": null,
   "id": "3073827d",
   "metadata": {},
   "outputs": [],
   "source": []
  },
  {
   "cell_type": "code",
   "execution_count": null,
   "id": "5e13371f",
   "metadata": {},
   "outputs": [],
   "source": []
  },
  {
   "cell_type": "code",
   "execution_count": null,
   "id": "e9f1f68a",
   "metadata": {},
   "outputs": [],
   "source": []
  },
  {
   "cell_type": "code",
   "execution_count": null,
   "id": "8efdaf77",
   "metadata": {},
   "outputs": [],
   "source": []
  },
  {
   "cell_type": "code",
   "execution_count": 10,
   "id": "413c0b7d",
   "metadata": {},
   "outputs": [],
   "source": [
    "a = df['text'][0]"
   ]
  },
  {
   "cell_type": "code",
   "execution_count": 13,
   "id": "81c0e8f7",
   "metadata": {},
   "outputs": [
    {
     "data": {
      "text/plain": [
       "\" 1                It's raining...                Light strobes across the wet glass at a rhythmic pace...                 Suddenly -- through the window a face -- JASON BOURNE --               riding in the backseat -- his gaze fixed.      \""
      ]
     },
     "execution_count": 13,
     "metadata": {},
     "output_type": "execute_result"
    }
   ],
   "source": [
    "a"
   ]
  },
  {
   "cell_type": "code",
   "execution_count": 22,
   "id": "8ad14646",
   "metadata": {},
   "outputs": [
    {
     "data": {
      "text/plain": [
       "\" 1                it's raining...                light strobes across the wet glass at a rhythmic pace...                 suddenly -- through the window a face -- jason bourne --               riding in the backseat -- his gaze fixed.      \""
      ]
     },
     "execution_count": 22,
     "metadata": {},
     "output_type": "execute_result"
    }
   ],
   "source": [
    "text = a.lower()\n",
    "text"
   ]
  },
  {
   "cell_type": "code",
   "execution_count": 20,
   "id": "f7576d73",
   "metadata": {},
   "outputs": [
    {
     "data": {
      "text/plain": [
       "'                 its raining                light strobes across the wet glass at a rhythmic pace                 suddenly  through the window a face  jason bourne                riding in the backseat  his gaze fixed      '"
      ]
     },
     "execution_count": 20,
     "metadata": {},
     "output_type": "execute_result"
    }
   ],
   "source": [
    "result = english.sub('', text)\n",
    "result"
   ]
  },
  {
   "cell_type": "code",
   "execution_count": 23,
   "id": "9e353266",
   "metadata": {},
   "outputs": [
    {
     "data": {
      "text/plain": [
       "' !                it!s raining!!!                light strobes across the wet glass at a rhythmic pace!!!                 suddenly !! through the window a face !! jason bourne !!               riding in the backseat !! his gaze fixed!      '"
      ]
     },
     "execution_count": 23,
     "metadata": {},
     "output_type": "execute_result"
    }
   ],
   "source": [
    "result = english.sub('!', text)\n",
    "result"
   ]
  }
 ],
 "metadata": {
  "kernelspec": {
   "display_name": "Python 3 (ipykernel)",
   "language": "python",
   "name": "python3"
  },
  "language_info": {
   "codemirror_mode": {
    "name": "ipython",
    "version": 3
   },
   "file_extension": ".py",
   "mimetype": "text/x-python",
   "name": "python",
   "nbconvert_exporter": "python",
   "pygments_lexer": "ipython3",
   "version": "3.10.0"
  }
 },
 "nbformat": 4,
 "nbformat_minor": 5
}
